{
 "cells": [
  {
   "cell_type": "code",
   "execution_count": 1,
   "id": "52f874a8-3abb-4ba3-ba3d-836c20776a2c",
   "metadata": {
    "tags": []
   },
   "outputs": [
    {
     "data": {
      "text/plain": [
       "True"
      ]
     },
     "execution_count": 1,
     "metadata": {},
     "output_type": "execute_result"
    }
   ],
   "source": [
    "import dotenv\n",
    "import openai\n",
    "\n",
    "dotenv.load_dotenv()"
   ]
  },
  {
   "cell_type": "markdown",
   "id": "fc8c071a-4913-4ad2-bfe2-2997ac75f7c3",
   "metadata": {
    "tags": []
   },
   "source": [
    "### OPEN API KEY LOAD SUCCESS"
   ]
  },
  {
   "cell_type": "code",
   "execution_count": 2,
   "id": "8e0567bd-729a-424e-b84c-53220122020e",
   "metadata": {
    "tags": []
   },
   "outputs": [],
   "source": [
    "%load_ext jupyter_ai_magics"
   ]
  },
  {
   "cell_type": "code",
   "execution_count": 3,
   "id": "7c8b5913-5196-4994-9005-231895dfa229",
   "metadata": {
    "tags": []
   },
   "outputs": [
    {
     "name": "stdout",
     "output_type": "stream",
     "text": [
      "Usage: %%ai [OPTIONS] MODEL_ID\n",
      "\n",
      "  Invokes a language model identified by MODEL_ID, with the prompt being\n",
      "  contained in all lines after the first. Both local model IDs and global\n",
      "  model IDs (with the provider ID explicitly prefixed, followed by a colon)\n",
      "  are accepted.\n",
      "\n",
      "  To view available language models, please run `%ai list`.\n",
      "\n",
      "Options:\n",
      "  -f, --format [code|html|image|json|markdown|math|md|text]\n",
      "                                  IPython display to use when rendering\n",
      "                                  output. [default=\"markdown\"]\n",
      "  -r, --reset                     Clears the conversation transcript used when\n",
      "                                  interacting with an OpenAI chat model\n",
      "                                  provider. Does nothing with other providers.\n",
      "  -n, --region-name TEXT          AWS region name, e.g. 'us-east-1'. Required\n",
      "                                  for SageMaker provider; does nothing with\n",
      "                                  other providers.\n",
      "  -q, --request-schema TEXT       The JSON object the endpoint expects, with\n",
      "                                  the prompt being substituted into any value\n",
      "                                  that matches the string literal '<prompt>'.\n",
      "                                  Required for SageMaker provider; does\n",
      "                                  nothing with other providers.\n",
      "  -p, --response-path TEXT        A JSONPath string that retrieves the\n",
      "                                  language model's output from the endpoint's\n",
      "                                  JSON response. Required for SageMaker\n",
      "                                  provider; does nothing with other providers.\n",
      "  --help                          Show this message and exit.\n",
      "------------------------------------------------------------------------------\n",
      "Usage: %ai [OPTIONS] COMMAND [ARGS]...\n",
      "\n",
      "  Invokes a subcommand.\n",
      "\n",
      "Options:\n",
      "  --help  Show this message and exit.\n",
      "\n",
      "Commands:\n",
      "  delete    Delete an alias. See `%ai delete --help` for options.\n",
      "  error     Explains the most recent error.\n",
      "  help      Show this message and exit.\n",
      "  list      List language models. See `%ai list --help` for options.\n",
      "  register  Register a new alias. See `%ai register --help` for options.\n",
      "  update    Update the target of an alias. See `%ai update --help` for\n",
      "            options.\n",
      "\n"
     ]
    }
   ],
   "source": [
    "%ai help"
   ]
  },
  {
   "cell_type": "code",
   "execution_count": 4,
   "id": "5b306596-d3f1-4a97-9413-401e25012d54",
   "metadata": {
    "tags": []
   },
   "outputs": [
    {
     "data": {
      "text/markdown": [
       "| Provider | Environment variable | Set? | Models |\n",
       "|----------|----------------------|------|--------|\n",
       "| `ai21` | `AI21_API_KEY` | <abbr title=\"You have not set this environment variable, so you cannot use this provider's models.\">❌</abbr> | `ai21:j1-large`, `ai21:j1-grande`, `ai21:j1-jumbo`, `ai21:j1-grande-instruct`, `ai21:j2-large`, `ai21:j2-grande`, `ai21:j2-jumbo`, `ai21:j2-grande-instruct`, `ai21:j2-jumbo-instruct` |\n",
       "| `anthropic` | `ANTHROPIC_API_KEY` | <abbr title=\"You have not set this environment variable, so you cannot use this provider's models.\">❌</abbr> | `anthropic:claude-v1`, `anthropic:claude-v1.0`, `anthropic:claude-v1.2`, `anthropic:claude-instant-v1`, `anthropic:claude-instant-v1.0` |\n",
       "| `cohere` | `COHERE_API_KEY` | <abbr title=\"You have not set this environment variable, so you cannot use this provider's models.\">❌</abbr> | `cohere:medium`, `cohere:xlarge` |\n",
       "| `huggingface_hub` | `HUGGINGFACEHUB_API_TOKEN` | <abbr title=\"You have not set this environment variable, so you cannot use this provider's models.\">❌</abbr> | This provider does not define a list of models. |\n",
       "| `openai` | `OPENAI_API_KEY` | <abbr title=\"You have set this environment variable, so you can use this provider's models.\">✅</abbr> | `openai:text-davinci-003`, `openai:text-davinci-002`, `openai:text-curie-001`, `openai:text-babbage-001`, `openai:text-ada-001`, `openai:davinci`, `openai:curie`, `openai:babbage`, `openai:ada` |\n",
       "| `openai-chat` | `OPENAI_API_KEY` | <abbr title=\"You have set this environment variable, so you can use this provider's models.\">✅</abbr> | `openai-chat:gpt-4`, `openai-chat:gpt-4-0314`, `openai-chat:gpt-4-32k`, `openai-chat:gpt-4-32k-0314`, `openai-chat:gpt-3.5-turbo`, `openai-chat:gpt-3.5-turbo-0301` |\n",
       "| `openai-chat-new` | `OPENAI_API_KEY` | <abbr title=\"You have set this environment variable, so you can use this provider's models.\">✅</abbr> | `openai-chat-new:gpt-4`, `openai-chat-new:gpt-4-0314`, `openai-chat-new:gpt-4-32k`, `openai-chat-new:gpt-4-32k-0314`, `openai-chat-new:gpt-3.5-turbo`, `openai-chat-new:gpt-3.5-turbo-0301` |\n",
       "| `sagemaker-endpoint` | Not applicable. | <abbr title=\"Not applicable\">N/A</abbr> | This provider does not define a list of models. |\n",
       "\n",
       "Aliases and custom commands:\n",
       "\n",
       "| Name | Target |\n",
       "|------|--------|\n",
       "| `gpt2` | `huggingface_hub:gpt2` |\n",
       "| `gpt3` | `openai:text-davinci-003` |\n",
       "| `chatgpt` | `openai-chat:gpt-3.5-turbo` |\n",
       "| `gpt4` | `openai-chat:gpt-4` |\n"
      ],
      "text/plain": [
       "ai21\n",
       "Requires environment variable AI21_API_KEY (not set)\n",
       "* ai21:j1-large\n",
       "* ai21:j1-grande\n",
       "* ai21:j1-jumbo\n",
       "* ai21:j1-grande-instruct\n",
       "* ai21:j2-large\n",
       "* ai21:j2-grande\n",
       "* ai21:j2-jumbo\n",
       "* ai21:j2-grande-instruct\n",
       "* ai21:j2-jumbo-instruct\n",
       "\n",
       "anthropic\n",
       "Requires environment variable ANTHROPIC_API_KEY (not set)\n",
       "* anthropic:claude-v1\n",
       "* anthropic:claude-v1.0\n",
       "* anthropic:claude-v1.2\n",
       "* anthropic:claude-instant-v1\n",
       "* anthropic:claude-instant-v1.0\n",
       "\n",
       "cohere\n",
       "Requires environment variable COHERE_API_KEY (not set)\n",
       "* cohere:medium\n",
       "* cohere:xlarge\n",
       "\n",
       "huggingface_hub\n",
       "Requires environment variable HUGGINGFACEHUB_API_TOKEN (not set)\n",
       "* This provider does not define a list of models.\n",
       "\n",
       "openai\n",
       "Requires environment variable OPENAI_API_KEY (set)\n",
       "* openai:text-davinci-003\n",
       "* openai:text-davinci-002\n",
       "* openai:text-curie-001\n",
       "* openai:text-babbage-001\n",
       "* openai:text-ada-001\n",
       "* openai:davinci\n",
       "* openai:curie\n",
       "* openai:babbage\n",
       "* openai:ada\n",
       "\n",
       "openai-chat\n",
       "Requires environment variable OPENAI_API_KEY (set)\n",
       "* openai-chat:gpt-4\n",
       "* openai-chat:gpt-4-0314\n",
       "* openai-chat:gpt-4-32k\n",
       "* openai-chat:gpt-4-32k-0314\n",
       "* openai-chat:gpt-3.5-turbo\n",
       "* openai-chat:gpt-3.5-turbo-0301\n",
       "\n",
       "openai-chat-new\n",
       "Requires environment variable OPENAI_API_KEY (set)\n",
       "* openai-chat-new:gpt-4\n",
       "* openai-chat-new:gpt-4-0314\n",
       "* openai-chat-new:gpt-4-32k\n",
       "* openai-chat-new:gpt-4-32k-0314\n",
       "* openai-chat-new:gpt-3.5-turbo\n",
       "* openai-chat-new:gpt-3.5-turbo-0301\n",
       "\n",
       "sagemaker-endpoint\n",
       "* This provider does not define a list of models.\n",
       "\n",
       "\n",
       "Aliases and custom commands:\n",
       "gpt2 - huggingface_hub:gpt2\n",
       "gpt3 - openai:text-davinci-003\n",
       "chatgpt - openai-chat:gpt-3.5-turbo\n",
       "gpt4 - openai-chat:gpt-4\n"
      ]
     },
     "execution_count": 4,
     "metadata": {},
     "output_type": "execute_result"
    }
   ],
   "source": [
    "%ai list"
   ]
  },
  {
   "cell_type": "code",
   "execution_count": 5,
   "id": "1222a2d5-a06e-4031-aca0-bb224c44f540",
   "metadata": {
    "tags": []
   },
   "outputs": [],
   "source": [
    "def celsius_to_fahrenheit(celsius):\n",
    "    return (celsius * 9/5) + 32"
   ]
  },
  {
   "cell_type": "code",
   "execution_count": 6,
   "id": "87e061c2-19ec-4010-9b40-8ab0123b104b",
   "metadata": {
    "tags": []
   },
   "outputs": [
    {
     "data": {
      "text/plain": [
       "68.0"
      ]
     },
     "execution_count": 6,
     "metadata": {},
     "output_type": "execute_result"
    }
   ],
   "source": [
    "def celsius_to_fahrenheit(celsius):\n",
    "    return (celsius * 9/5) + 32\n",
    "\n",
    "celsius_to_fahrenheit(20)\n"
   ]
  },
  {
   "cell_type": "code",
   "execution_count": 7,
   "id": "6d6ab9da-9b59-4889-9224-dc641b10a144",
   "metadata": {
    "tags": []
   },
   "outputs": [
    {
     "data": {
      "text/plain": [
       "32.0"
      ]
     },
     "execution_count": 7,
     "metadata": {},
     "output_type": "execute_result"
    }
   ],
   "source": [
    "celsius_to_fahrenheit(0)"
   ]
  },
  {
   "cell_type": "code",
   "execution_count": 8,
   "id": "db2f9e40-5142-42a8-a338-8aa76093afe1",
   "metadata": {
    "tags": []
   },
   "outputs": [
    {
     "data": {
      "text/plain": [
       "212.0"
      ]
     },
     "execution_count": 8,
     "metadata": {},
     "output_type": "execute_result"
    }
   ],
   "source": [
    "celsius_to_fahrenheit(100)"
   ]
  },
  {
   "cell_type": "code",
   "execution_count": 9,
   "id": "07168748-aee2-4be8-bf73-e23f1ca974ab",
   "metadata": {
    "tags": []
   },
   "outputs": [
    {
     "data": {
      "text/html": [
       "AI generated code inserted below &#11015;&#65039;"
      ],
      "text/plain": [
       "<IPython.core.display.HTML object>"
      ]
     },
     "execution_count": 9,
     "metadata": {
      "text/html": {
       "jupyter_ai": {
        "model_id": "gpt-3.5-turbo",
        "provider_id": "openai-chat"
       }
      }
     },
     "output_type": "execute_result"
    }
   ],
   "source": [
    "%%ai chatgpt -f code\n",
    "\n",
    "a function that returns its square root."
   ]
  },
  {
   "cell_type": "code",
   "execution_count": null,
   "id": "ab9cfe78-8b16-4172-98ed-4c41f02e989d",
   "metadata": {},
   "outputs": [],
   "source": [
    "def square_root(x):\n",
    "    return x**0.5"
   ]
  },
  {
   "cell_type": "code",
   "execution_count": 10,
   "id": "9ae57ff3-f5a7-42f5-a716-5d8cb2ad0242",
   "metadata": {},
   "outputs": [],
   "source": [
    "import math\n",
    "\n",
    "def square_root(x):\n",
    "    return math.sqrt(x)"
   ]
  },
  {
   "cell_type": "code",
   "execution_count": 11,
   "id": "b875cb19-57fc-4f9f-a972-a469424406de",
   "metadata": {
    "tags": []
   },
   "outputs": [],
   "source": [
    "def square_root(x):\n",
    "    return x**(0.5)"
   ]
  },
  {
   "cell_type": "code",
   "execution_count": 12,
   "id": "7acb9c0c-bed1-4887-ba2e-7470f3d523a4",
   "metadata": {},
   "outputs": [],
   "source": [
    "import math\n",
    "def square_root(x):\n",
    "    return math.sqrt(x)"
   ]
  },
  {
   "cell_type": "code",
   "execution_count": 13,
   "id": "759a1631-7475-4222-9811-8b4904230086",
   "metadata": {
    "tags": []
   },
   "outputs": [
    {
     "name": "stdout",
     "output_type": "stream",
     "text": [
      "3.0\n"
     ]
    }
   ],
   "source": [
    "def square_root(x):\n",
    "    return x**0.5\n",
    "\n",
    "# Example usage:\n",
    "print(square_root(9))"
   ]
  },
  {
   "cell_type": "code",
   "execution_count": 14,
   "id": "5eddac48-512b-4492-95f7-cbf0fbb8e26f",
   "metadata": {
    "tags": []
   },
   "outputs": [],
   "source": [
    "import math\n",
    "def get_square_root(num):\n",
    "    return math.sqrt(num)"
   ]
  },
  {
   "cell_type": "code",
   "execution_count": 15,
   "id": "df7e831c-0d3e-4f07-911d-8728eb0fb8bb",
   "metadata": {
    "tags": []
   },
   "outputs": [],
   "source": [
    "import math\n",
    "\n",
    "def square_root(n):\n",
    "    return math.sqrt(n)"
   ]
  },
  {
   "cell_type": "code",
   "execution_count": 16,
   "id": "a4dfca70-ca2e-4bd8-a19b-169f51abccc4",
   "metadata": {
    "tags": []
   },
   "outputs": [],
   "source": [
    "# Here is a simple Python function that returns the square root of a given number:\n",
    "\n",
    "\n",
    "import math\n",
    "\n",
    "def square_root(number):\n",
    "    return math.sqrt(number)\n",
    "\n",
    "\n",
    "# Note: This answer assumes that you are looking for a programming code snippet and not the mathematical formula for square roots."
   ]
  },
  {
   "cell_type": "code",
   "execution_count": 17,
   "id": "64c63517-a615-4409-97d6-6b8f363fccbc",
   "metadata": {
    "tags": []
   },
   "outputs": [],
   "source": [
    "import math\n",
    "\n",
    "def square_root(input):\n",
    "    return math.sqrt(input)"
   ]
  },
  {
   "cell_type": "code",
   "execution_count": 18,
   "id": "8f80b7ce-7a7c-465d-bd4e-97aa11c7038e",
   "metadata": {},
   "outputs": [],
   "source": [
    "import math\n",
    "def square_root(num):\n",
    "    return math.sqrt(num)"
   ]
  },
  {
   "cell_type": "code",
   "execution_count": 19,
   "id": "5b3b43c2-b017-4ba6-a64a-cec70c0276cf",
   "metadata": {},
   "outputs": [],
   "source": [
    "import math\n",
    "def square_root(x):\n",
    "    return math.sqrt(x)"
   ]
  },
  {
   "cell_type": "code",
   "execution_count": 20,
   "id": "40c47f09-fb9e-4d49-bdbf-a0f6213de12e",
   "metadata": {},
   "outputs": [],
   "source": [
    "def square_root(x):\n",
    "    return x ** (1 / 2)"
   ]
  },
  {
   "cell_type": "code",
   "execution_count": 21,
   "id": "20afc637-aa6b-47bf-afdc-931a514189cb",
   "metadata": {
    "tags": []
   },
   "outputs": [],
   "source": [
    "def square_root(x):\n",
    "    return x ** 0.5"
   ]
  },
  {
   "cell_type": "code",
   "execution_count": 22,
   "id": "a111705f-11d8-4dc1-9562-f2f70c398e0b",
   "metadata": {
    "tags": []
   },
   "outputs": [],
   "source": [
    "import math\n",
    "def square_root(x):\n",
    "    return math.sqrt(x)"
   ]
  },
  {
   "cell_type": "code",
   "execution_count": 23,
   "id": "4fea1640-074b-40b3-952f-40ca12ce6af8",
   "metadata": {
    "tags": []
   },
   "outputs": [
    {
     "data": {
      "text/html": [
       "AI generated code inserted below &#11015;&#65039;"
      ],
      "text/plain": [
       "<IPython.core.display.HTML object>"
      ]
     },
     "execution_count": 23,
     "metadata": {
      "text/html": {
       "jupyter_ai": {
        "model_id": "gpt-3.5-turbo",
        "provider_id": "openai-chat"
       }
      }
     },
     "output_type": "execute_result"
    }
   ],
   "source": [
    "%%ai openai-chat:gpt-3.5-turbo -f code\n",
    "\n",
    "A function that returns the cube root of a number"
   ]
  },
  {
   "cell_type": "code",
   "execution_count": null,
   "id": "b5c9b62a-55b8-4e5c-9457-3f542da3637a",
   "metadata": {},
   "outputs": [],
   "source": [
    "def cube_root(x):\n",
    "    return x**(1/3)"
   ]
  },
  {
   "cell_type": "code",
   "execution_count": 24,
   "id": "5c4554ef-8112-4649-94ed-ec4c22545187",
   "metadata": {
    "tags": []
   },
   "outputs": [],
   "source": [
    "def cube_root(x):\n",
    "    return x**(1/3)"
   ]
  },
  {
   "cell_type": "code",
   "execution_count": 25,
   "id": "3f642dbe-4484-4e93-85a7-76e59fd5f1c8",
   "metadata": {},
   "outputs": [],
   "source": [
    "def cube_root(x):\n",
    "    return x**(1/3)"
   ]
  },
  {
   "cell_type": "code",
   "execution_count": 26,
   "id": "9aa72af8-8fd4-4e61-83b1-28a3b074ce06",
   "metadata": {},
   "outputs": [],
   "source": [
    "import math\n",
    "def get_cube_root(num):\n",
    "    return math.pow(num, 1/3)"
   ]
  },
  {
   "cell_type": "code",
   "execution_count": 27,
   "id": "8a325ca5-bf3c-48fd-a32b-5fb0f97dc31b",
   "metadata": {},
   "outputs": [],
   "source": [
    "def get_cube_root(num):\n",
    "    return num**(1/3)"
   ]
  },
  {
   "cell_type": "code",
   "execution_count": 28,
   "id": "83cbe466-8562-4a5f-b527-854cb5a05cf8",
   "metadata": {},
   "outputs": [],
   "source": [
    "# Certainly! Here's a Python function that returns the cube root of a given number:\n",
    "\n",
    "\n",
    "def cube_root(number):\n",
    "    return number ** (1/3)\n",
    "\n",
    "\n",
    "# Note: This code assumes that the number provided as an argument is a positive real number."
   ]
  },
  {
   "cell_type": "code",
   "execution_count": 29,
   "id": "ffe823af-7cd3-4a06-b55e-e7b74a9418b9",
   "metadata": {},
   "outputs": [],
   "source": [
    "import math\n",
    "\n",
    "def cube_root(input):\n",
    "    return input ** (1/3)"
   ]
  },
  {
   "cell_type": "code",
   "execution_count": 30,
   "id": "ef32667a-954f-43a5-947a-f5c796b77250",
   "metadata": {},
   "outputs": [],
   "source": [
    "import math\n",
    "def cube_root(num):\n",
    "    return num**(1/3)"
   ]
  },
  {
   "cell_type": "code",
   "execution_count": 31,
   "id": "6bd17bc1-a617-46f3-9d26-86116ff60997",
   "metadata": {},
   "outputs": [],
   "source": [
    "def cube_root(x):\n",
    "    return x ** (1/3)"
   ]
  },
  {
   "cell_type": "code",
   "execution_count": 32,
   "id": "79af202e-93f4-4f70-994f-f4965ee4c679",
   "metadata": {},
   "outputs": [],
   "source": [
    "def cube_root(x):\n",
    "    return x ** (1 / 3)"
   ]
  },
  {
   "cell_type": "code",
   "execution_count": 33,
   "id": "785506e7-2f79-4e3e-a616-855a2dec9f4a",
   "metadata": {
    "tags": []
   },
   "outputs": [
    {
     "name": "stdout",
     "output_type": "stream",
     "text": [
      "{'count': 6, 'next': None, 'previous': None, 'results': [{'id': 40, 'player_name': 'Jayson Tatum', 'age': 24, 'games': 74, 'games_started': 74, 'minutes_played': 2732, 'field_goals': 727, 'field_attempts': 1559, 'field_percent': '0.466', 'three_fg': 240, 'three_attempts': 686, 'three_percent': '0.350', 'two_fg': 487, 'two_attempts': 873, 'two_percent': '0.558', 'effect_fg_percent': '0.543', 'ft': 531, 'fta': 622, 'ft_percent': '0.854', 'ORB': 78, 'DRB': 571, 'TRB': 649, 'AST': 342, 'STL': 78, 'BLK': 51, 'TOV': 213, 'PF': 160, 'PTS': 2225, 'team': 'BOS', 'season': 2023}, {'id': 652, 'player_name': 'Jayson Tatum', 'age': 23, 'games': 76, 'games_started': 76, 'minutes_played': 2731, 'field_goals': 708, 'field_attempts': 1564, 'field_percent': '0.453', 'three_fg': 230, 'three_attempts': 651, 'three_percent': '0.353', 'two_fg': 478, 'two_attempts': 913, 'two_percent': '0.524', 'effect_fg_percent': '0.526', 'ft': 400, 'fta': 469, 'ft_percent': '0.853', 'ORB': 85, 'DRB': 524, 'TRB': 609, 'AST': 334, 'STL': 75, 'BLK': 49, 'TOV': 217, 'PF': 174, 'PTS': 2046, 'team': 'BOS', 'season': 2022}, {'id': 1378, 'player_name': 'Jayson Tatum', 'age': 22, 'games': 64, 'games_started': 64, 'minutes_played': 2290, 'field_goals': 605, 'field_attempts': 1318, 'field_percent': '0.459', 'three_fg': 187, 'three_attempts': 485, 'three_percent': '0.386', 'two_fg': 418, 'two_attempts': 833, 'two_percent': '0.502', 'effect_fg_percent': '0.530', 'ft': 295, 'fta': 340, 'ft_percent': '0.868', 'ORB': 50, 'DRB': 422, 'TRB': 472, 'AST': 276, 'STL': 75, 'BLK': 31, 'TOV': 171, 'PF': 122, 'PTS': 1692, 'team': 'BOS', 'season': 2021}, {'id': 1991, 'player_name': 'Jayson Tatum', 'age': 21, 'games': 66, 'games_started': 66, 'minutes_played': 2265, 'field_goals': 552, 'field_attempts': 1226, 'field_percent': '0.450', 'three_fg': 189, 'three_attempts': 469, 'three_percent': '0.403', 'two_fg': 363, 'two_attempts': 757, 'two_percent': '0.480', 'effect_fg_percent': '0.527', 'ft': 254, 'fta': 313, 'ft_percent': '0.812', 'ORB': 64, 'DRB': 396, 'TRB': 460, 'AST': 200, 'STL': 93, 'BLK': 57, 'TOV': 155, 'PF': 136, 'PTS': 1547, 'team': 'BOS', 'season': 2020}, {'id': 2591, 'player_name': 'Jayson Tatum', 'age': 20, 'games': 79, 'games_started': 79, 'minutes_played': 2455, 'field_goals': 466, 'field_attempts': 1036, 'field_percent': '0.450', 'three_fg': 116, 'three_attempts': 311, 'three_percent': '0.373', 'two_fg': 350, 'two_attempts': 725, 'two_percent': '0.483', 'effect_fg_percent': '0.506', 'ft': 195, 'fta': 228, 'ft_percent': '0.855', 'ORB': 70, 'DRB': 407, 'TRB': 477, 'AST': 168, 'STL': 84, 'BLK': 57, 'TOV': 122, 'PF': 168, 'PTS': 1243, 'team': 'BOS', 'season': 2019}, {'id': 3211, 'player_name': 'Jayson Tatum', 'age': 19, 'games': 80, 'games_started': 80, 'minutes_played': 2443, 'field_goals': 397, 'field_attempts': 835, 'field_percent': '0.475', 'three_fg': 105, 'three_attempts': 242, 'three_percent': '0.434', 'two_fg': 292, 'two_attempts': 593, 'two_percent': '0.492', 'effect_fg_percent': '0.538', 'ft': 213, 'fta': 258, 'ft_percent': '0.826', 'ORB': 50, 'DRB': 352, 'TRB': 402, 'AST': 128, 'STL': 83, 'BLK': 58, 'TOV': 114, 'PF': 170, 'PTS': 1112, 'team': 'BOS', 'season': 2018}]}\n"
     ]
    }
   ],
   "source": [
    "import requests\n",
    "\n",
    "# Make a GET request to an API endpoint\n",
    "response = requests.get('https://nba-stats-db.herokuapp.com/api/playerdata/name/Jayson Tatum')\n",
    "\n",
    "# Check if the request was successful (status code 200)\n",
    "if response.status_code == 200:\n",
    "    # Access the response data\n",
    "    data = response.json()\n",
    "    print(data)\n",
    "else:\n",
    "    print('Error:', response.status_code)"
   ]
  },
  {
   "cell_type": "code",
   "execution_count": 34,
   "id": "9af9de5a-d2e4-4ce8-9429-1d2dd0f6beab",
   "metadata": {
    "tags": []
   },
   "outputs": [
    {
     "data": {
      "text/html": [
       "AI generated code inserted below &#11015;&#65039;"
      ],
      "text/plain": [
       "<IPython.core.display.HTML object>"
      ]
     },
     "execution_count": 34,
     "metadata": {
      "text/html": {
       "jupyter_ai": {
        "model_id": "gpt-3.5-turbo",
        "provider_id": "openai-chat"
       }
      }
     },
     "output_type": "execute_result"
    }
   ],
   "source": [
    "%%ai openai-chat:gpt-3.5-turbo -f code\n",
    "\n",
    "Sort the data from above to find Jayson Tatums highest scoring season."
   ]
  },
  {
   "cell_type": "code",
   "execution_count": null,
   "id": "9fee9496-5488-432d-b02b-8a6204a70be7",
   "metadata": {},
   "outputs": [],
   "source": [
    "data = {\n",
    "    'Jayson Tatum': {\n",
    "        '2017-2018': 13.9,\n",
    "        '2018-2019': 15.7,\n",
    "        '2019-2020': 23.4,\n",
    "        '2020-2021': 26.4\n",
    "    }\n",
    "}\n",
    "\n",
    "highest_scoring_season = max(data['Jayson Tatum'], key=lambda x: data['Jayson Tatum'][x])\n",
    "\n",
    "highest_scoring_season"
   ]
  },
  {
   "cell_type": "code",
   "execution_count": 35,
   "id": "5ca9e262-826b-43e9-b6d8-60fcc763ffc5",
   "metadata": {},
   "outputs": [],
   "source": [
    "tatum_stats = [\n",
    "    {\"season\": \"2017-2018\", \"points\": 1399},\n",
    "    {\"season\": \"2018-2019\", \"points\": 1533},\n",
    "    {\"season\": \"2019-2020\", \"points\": 1545},\n",
    "    {\"season\": \"2020-2021\", \"points\": 1573}\n",
    "]\n",
    "\n",
    "sorted_stats = sorted(tatum_stats, key=lambda x: x[\"points\"], reverse=True)\n",
    "highest_scoring_season = sorted_stats[0][\"season\"]"
   ]
  },
  {
   "cell_type": "code",
   "execution_count": 36,
   "id": "c6b6c3d7-a60b-4934-a7bf-cc522ebe27d8",
   "metadata": {},
   "outputs": [],
   "source": [
    "# List of Jayson Tatum's seasons and their corresponding scores\n",
    "seasons = [\n",
    "    {\"season\": \"2017-2018\", \"score\": 13.9},\n",
    "    {\"season\": \"2018-2019\", \"score\": 15.7},\n",
    "    {\"season\": \"2019-2020\", \"score\": 23.4},\n",
    "    {\"season\": \"2020-2021\", \"score\": 26.4}\n",
    "]\n",
    "\n",
    "# Sorting the seasons based on score in descending order\n",
    "sorted_seasons = sorted(seasons, key=lambda x: x[\"score\"], reverse=True)\n",
    "\n",
    "# Jayson Tatum's highest scoring season\n",
    "highest_scoring_season = sorted_seasons[0][\"season\"]"
   ]
  },
  {
   "cell_type": "code",
   "execution_count": 37,
   "id": "6b891fc9-658f-4f5f-b3f4-ebe93b36afe4",
   "metadata": {
    "tags": []
   },
   "outputs": [
    {
     "data": {
      "text/plain": [
       "23"
      ]
     },
     "execution_count": 37,
     "metadata": {},
     "output_type": "execute_result"
    }
   ],
   "source": [
    "player_stats = {\n",
    "    \"Jayson Tatum\": [15, 18, 21, 23, 20]\n",
    "}\n",
    "\n",
    "highest_scoring_season = max(player_stats[\"Jayson Tatum\"])\n",
    "highest_scoring_season"
   ]
  }
 ],
 "metadata": {
  "kernelspec": {
   "display_name": "Python 3 (ipykernel)",
   "language": "python",
   "name": "python3"
  },
  "language_info": {
   "codemirror_mode": {
    "name": "ipython",
    "version": 3
   },
   "file_extension": ".py",
   "mimetype": "text/x-python",
   "name": "python",
   "nbconvert_exporter": "python",
   "pygments_lexer": "ipython3",
   "version": "3.11.4"
  }
 },
 "nbformat": 4,
 "nbformat_minor": 5
}
